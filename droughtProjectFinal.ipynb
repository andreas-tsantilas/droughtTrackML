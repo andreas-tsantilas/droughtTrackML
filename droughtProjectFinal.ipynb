{
 "cells": [
  {
   "cell_type": "code",
   "execution_count": 1,
   "metadata": {},
   "outputs": [],
   "source": [
    "# Load libraries\n",
    "\n",
    "\n",
    "import pandas as pd\n",
    "from matplotlib import pyplot\n",
    "from sklearn.model_selection import train_test_split\n",
    "from sklearn.model_selection import cross_val_score\n",
    "from sklearn.model_selection import StratifiedKFold\n",
    "from sklearn.metrics import classification_report\n",
    "from sklearn.metrics import confusion_matrix\n",
    "from sklearn.metrics import accuracy_score\n",
    "from sklearn.linear_model import LinearRegression\n",
    "from sklearn.tree import DecisionTreeClassifier\n",
    "from sklearn.neighbors import KNeighborsClassifier\n",
    "from sklearn.discriminant_analysis import LinearDiscriminantAnalysis\n",
    "from sklearn.naive_bayes import GaussianNB\n",
    "from sklearn.svm import SVC\n",
    "\n",
    "\n",
    "import numpy as np\n",
    "import pandas as pd\n",
    "import json\n",
    "import os\n",
    "import matplotlib.pyplot as plt\n",
    "import seaborn as sns\n",
    "from tqdm.auto import tqdm\n",
    "from datetime import datetime\n",
    "#sns.set_style('white')\n"
   ]
  },
  {
   "cell_type": "markdown",
   "metadata": {},
   "source": [
    "# DroughtTrack ML\n",
    "By Andreas Tsantilas, Jan Kolupaev, Benjamin Grass, and Rishabh Raniwala"
   ]
  },
  {
   "cell_type": "markdown",
   "metadata": {},
   "source": [
    "## Part I: Cleaning the Data"
   ]
  },
  {
   "cell_type": "code",
   "execution_count": 2,
   "metadata": {},
   "outputs": [],
   "source": [
    "import os\n",
    "files = {}\n",
    "\n",
    "for dirname, _, filenames in os.walk('./'):\n",
    "    for filename in filenames:\n",
    "        if 'train' in filename:\n",
    "            files['train'] = os.path.join(dirname, filename)\n",
    "        if 'valid' in filename:\n",
    "            files['valid'] = os.path.join(dirname, filename)\n",
    "        if 'test_t' in filename:\n",
    "            files['test'] = os.path.join(dirname, filename)"
   ]
  },
  {
   "cell_type": "markdown",
   "metadata": {},
   "source": [
    "Our first job is to import the data, and create a dictionary containing each of the dataframes. "
   ]
  },
  {
   "cell_type": "code",
   "execution_count": 3,
   "metadata": {},
   "outputs": [
    {
     "data": {
      "text/plain": [
       "{'test': './test_timeseries.csv',\n",
       " 'train': './train_timeseries.csv',\n",
       " 'valid': './validation_timeseries.csv'}"
      ]
     },
     "execution_count": 3,
     "metadata": {},
     "output_type": "execute_result"
    }
   ],
   "source": [
    "files"
   ]
  },
  {
   "cell_type": "code",
   "execution_count": 4,
   "metadata": {},
   "outputs": [],
   "source": [
    "dfs = {\n",
    "    k: pd.read_csv(files[k]).set_index(['fips', 'date'])\n",
    "    for k in files.keys()\n",
    "}"
   ]
  },
  {
   "cell_type": "code",
   "execution_count": 5,
   "metadata": {},
   "outputs": [
    {
     "data": {
      "text/html": [
       "<div>\n",
       "<style scoped>\n",
       "    .dataframe tbody tr th:only-of-type {\n",
       "        vertical-align: middle;\n",
       "    }\n",
       "\n",
       "    .dataframe tbody tr th {\n",
       "        vertical-align: top;\n",
       "    }\n",
       "\n",
       "    .dataframe thead th {\n",
       "        text-align: right;\n",
       "    }\n",
       "</style>\n",
       "<table border=\"1\" class=\"dataframe\">\n",
       "  <thead>\n",
       "    <tr style=\"text-align: right;\">\n",
       "      <th></th>\n",
       "      <th></th>\n",
       "      <th>PRECTOT</th>\n",
       "      <th>PS</th>\n",
       "      <th>QV2M</th>\n",
       "      <th>T2M</th>\n",
       "      <th>T2MDEW</th>\n",
       "      <th>T2MWET</th>\n",
       "      <th>T2M_MAX</th>\n",
       "      <th>T2M_MIN</th>\n",
       "      <th>T2M_RANGE</th>\n",
       "      <th>TS</th>\n",
       "      <th>WS10M</th>\n",
       "      <th>WS10M_MAX</th>\n",
       "      <th>WS10M_MIN</th>\n",
       "      <th>WS10M_RANGE</th>\n",
       "      <th>WS50M</th>\n",
       "      <th>WS50M_MAX</th>\n",
       "      <th>WS50M_MIN</th>\n",
       "      <th>WS50M_RANGE</th>\n",
       "      <th>score</th>\n",
       "    </tr>\n",
       "    <tr>\n",
       "      <th>fips</th>\n",
       "      <th>date</th>\n",
       "      <th></th>\n",
       "      <th></th>\n",
       "      <th></th>\n",
       "      <th></th>\n",
       "      <th></th>\n",
       "      <th></th>\n",
       "      <th></th>\n",
       "      <th></th>\n",
       "      <th></th>\n",
       "      <th></th>\n",
       "      <th></th>\n",
       "      <th></th>\n",
       "      <th></th>\n",
       "      <th></th>\n",
       "      <th></th>\n",
       "      <th></th>\n",
       "      <th></th>\n",
       "      <th></th>\n",
       "      <th></th>\n",
       "    </tr>\n",
       "  </thead>\n",
       "  <tbody>\n",
       "    <tr>\n",
       "      <th rowspan=\"5\" valign=\"top\">1001</th>\n",
       "      <th>2000-01-01</th>\n",
       "      <td>0.22</td>\n",
       "      <td>100.51</td>\n",
       "      <td>9.65</td>\n",
       "      <td>14.74</td>\n",
       "      <td>13.51</td>\n",
       "      <td>13.51</td>\n",
       "      <td>20.96</td>\n",
       "      <td>11.46</td>\n",
       "      <td>9.50</td>\n",
       "      <td>14.65</td>\n",
       "      <td>2.20</td>\n",
       "      <td>2.94</td>\n",
       "      <td>1.49</td>\n",
       "      <td>1.46</td>\n",
       "      <td>4.85</td>\n",
       "      <td>6.04</td>\n",
       "      <td>3.23</td>\n",
       "      <td>2.81</td>\n",
       "      <td>NaN</td>\n",
       "    </tr>\n",
       "    <tr>\n",
       "      <th>2000-01-02</th>\n",
       "      <td>0.20</td>\n",
       "      <td>100.55</td>\n",
       "      <td>10.42</td>\n",
       "      <td>16.69</td>\n",
       "      <td>14.71</td>\n",
       "      <td>14.71</td>\n",
       "      <td>22.80</td>\n",
       "      <td>12.61</td>\n",
       "      <td>10.18</td>\n",
       "      <td>16.60</td>\n",
       "      <td>2.52</td>\n",
       "      <td>3.43</td>\n",
       "      <td>1.83</td>\n",
       "      <td>1.60</td>\n",
       "      <td>5.33</td>\n",
       "      <td>6.13</td>\n",
       "      <td>3.72</td>\n",
       "      <td>2.41</td>\n",
       "      <td>NaN</td>\n",
       "    </tr>\n",
       "    <tr>\n",
       "      <th>2000-01-03</th>\n",
       "      <td>3.65</td>\n",
       "      <td>100.15</td>\n",
       "      <td>11.76</td>\n",
       "      <td>18.49</td>\n",
       "      <td>16.52</td>\n",
       "      <td>16.52</td>\n",
       "      <td>22.73</td>\n",
       "      <td>15.32</td>\n",
       "      <td>7.41</td>\n",
       "      <td>18.41</td>\n",
       "      <td>4.03</td>\n",
       "      <td>5.33</td>\n",
       "      <td>2.66</td>\n",
       "      <td>2.67</td>\n",
       "      <td>7.53</td>\n",
       "      <td>9.52</td>\n",
       "      <td>5.87</td>\n",
       "      <td>3.66</td>\n",
       "      <td>NaN</td>\n",
       "    </tr>\n",
       "    <tr>\n",
       "      <th>2000-01-04</th>\n",
       "      <td>15.95</td>\n",
       "      <td>100.29</td>\n",
       "      <td>6.42</td>\n",
       "      <td>11.40</td>\n",
       "      <td>6.09</td>\n",
       "      <td>6.10</td>\n",
       "      <td>18.09</td>\n",
       "      <td>2.16</td>\n",
       "      <td>15.92</td>\n",
       "      <td>11.31</td>\n",
       "      <td>3.84</td>\n",
       "      <td>5.67</td>\n",
       "      <td>2.08</td>\n",
       "      <td>3.59</td>\n",
       "      <td>6.73</td>\n",
       "      <td>9.31</td>\n",
       "      <td>3.74</td>\n",
       "      <td>5.58</td>\n",
       "      <td>1.0</td>\n",
       "    </tr>\n",
       "    <tr>\n",
       "      <th>2000-01-05</th>\n",
       "      <td>0.00</td>\n",
       "      <td>101.15</td>\n",
       "      <td>2.95</td>\n",
       "      <td>3.86</td>\n",
       "      <td>-3.29</td>\n",
       "      <td>-3.20</td>\n",
       "      <td>10.82</td>\n",
       "      <td>-2.66</td>\n",
       "      <td>13.48</td>\n",
       "      <td>2.65</td>\n",
       "      <td>1.60</td>\n",
       "      <td>2.50</td>\n",
       "      <td>0.52</td>\n",
       "      <td>1.98</td>\n",
       "      <td>2.94</td>\n",
       "      <td>4.85</td>\n",
       "      <td>0.65</td>\n",
       "      <td>4.19</td>\n",
       "      <td>NaN</td>\n",
       "    </tr>\n",
       "    <tr>\n",
       "      <th>...</th>\n",
       "      <th>...</th>\n",
       "      <td>...</td>\n",
       "      <td>...</td>\n",
       "      <td>...</td>\n",
       "      <td>...</td>\n",
       "      <td>...</td>\n",
       "      <td>...</td>\n",
       "      <td>...</td>\n",
       "      <td>...</td>\n",
       "      <td>...</td>\n",
       "      <td>...</td>\n",
       "      <td>...</td>\n",
       "      <td>...</td>\n",
       "      <td>...</td>\n",
       "      <td>...</td>\n",
       "      <td>...</td>\n",
       "      <td>...</td>\n",
       "      <td>...</td>\n",
       "      <td>...</td>\n",
       "      <td>...</td>\n",
       "    </tr>\n",
       "    <tr>\n",
       "      <th rowspan=\"5\" valign=\"top\">56043</th>\n",
       "      <th>2016-12-27</th>\n",
       "      <td>0.16</td>\n",
       "      <td>82.88</td>\n",
       "      <td>1.63</td>\n",
       "      <td>-7.97</td>\n",
       "      <td>-13.49</td>\n",
       "      <td>-12.81</td>\n",
       "      <td>-1.39</td>\n",
       "      <td>-13.60</td>\n",
       "      <td>12.21</td>\n",
       "      <td>-9.41</td>\n",
       "      <td>5.90</td>\n",
       "      <td>7.63</td>\n",
       "      <td>3.61</td>\n",
       "      <td>4.02</td>\n",
       "      <td>8.58</td>\n",
       "      <td>10.39</td>\n",
       "      <td>5.92</td>\n",
       "      <td>4.47</td>\n",
       "      <td>0.0</td>\n",
       "    </tr>\n",
       "    <tr>\n",
       "      <th>2016-12-28</th>\n",
       "      <td>0.02</td>\n",
       "      <td>83.33</td>\n",
       "      <td>1.41</td>\n",
       "      <td>-8.71</td>\n",
       "      <td>-14.10</td>\n",
       "      <td>-13.84</td>\n",
       "      <td>-2.49</td>\n",
       "      <td>-13.56</td>\n",
       "      <td>11.07</td>\n",
       "      <td>-10.55</td>\n",
       "      <td>6.50</td>\n",
       "      <td>11.43</td>\n",
       "      <td>4.11</td>\n",
       "      <td>7.32</td>\n",
       "      <td>9.92</td>\n",
       "      <td>14.49</td>\n",
       "      <td>7.26</td>\n",
       "      <td>7.22</td>\n",
       "      <td>NaN</td>\n",
       "    </tr>\n",
       "    <tr>\n",
       "      <th>2016-12-29</th>\n",
       "      <td>0.00</td>\n",
       "      <td>83.75</td>\n",
       "      <td>1.59</td>\n",
       "      <td>-7.96</td>\n",
       "      <td>-13.30</td>\n",
       "      <td>-13.03</td>\n",
       "      <td>0.42</td>\n",
       "      <td>-14.51</td>\n",
       "      <td>14.93</td>\n",
       "      <td>-10.29</td>\n",
       "      <td>4.29</td>\n",
       "      <td>6.24</td>\n",
       "      <td>2.03</td>\n",
       "      <td>4.22</td>\n",
       "      <td>6.56</td>\n",
       "      <td>10.07</td>\n",
       "      <td>3.20</td>\n",
       "      <td>6.87</td>\n",
       "      <td>NaN</td>\n",
       "    </tr>\n",
       "    <tr>\n",
       "      <th>2016-12-30</th>\n",
       "      <td>1.22</td>\n",
       "      <td>82.49</td>\n",
       "      <td>2.63</td>\n",
       "      <td>-2.94</td>\n",
       "      <td>-7.40</td>\n",
       "      <td>-7.33</td>\n",
       "      <td>3.76</td>\n",
       "      <td>-6.86</td>\n",
       "      <td>10.62</td>\n",
       "      <td>-4.14</td>\n",
       "      <td>4.98</td>\n",
       "      <td>7.34</td>\n",
       "      <td>1.99</td>\n",
       "      <td>5.35</td>\n",
       "      <td>7.28</td>\n",
       "      <td>10.12</td>\n",
       "      <td>3.24</td>\n",
       "      <td>6.89</td>\n",
       "      <td>NaN</td>\n",
       "    </tr>\n",
       "    <tr>\n",
       "      <th>2016-12-31</th>\n",
       "      <td>0.44</td>\n",
       "      <td>82.19</td>\n",
       "      <td>1.75</td>\n",
       "      <td>-7.56</td>\n",
       "      <td>-11.98</td>\n",
       "      <td>-11.82</td>\n",
       "      <td>-0.95</td>\n",
       "      <td>-11.61</td>\n",
       "      <td>10.66</td>\n",
       "      <td>-10.17</td>\n",
       "      <td>2.31</td>\n",
       "      <td>3.47</td>\n",
       "      <td>0.41</td>\n",
       "      <td>3.06</td>\n",
       "      <td>3.37</td>\n",
       "      <td>5.26</td>\n",
       "      <td>0.66</td>\n",
       "      <td>4.60</td>\n",
       "      <td>NaN</td>\n",
       "    </tr>\n",
       "  </tbody>\n",
       "</table>\n",
       "<p>19300680 rows × 19 columns</p>\n",
       "</div>"
      ],
      "text/plain": [
       "                  PRECTOT      PS   QV2M    T2M  T2MDEW  T2MWET  T2M_MAX  \\\n",
       "fips  date                                                                 \n",
       "1001  2000-01-01     0.22  100.51   9.65  14.74   13.51   13.51    20.96   \n",
       "      2000-01-02     0.20  100.55  10.42  16.69   14.71   14.71    22.80   \n",
       "      2000-01-03     3.65  100.15  11.76  18.49   16.52   16.52    22.73   \n",
       "      2000-01-04    15.95  100.29   6.42  11.40    6.09    6.10    18.09   \n",
       "      2000-01-05     0.00  101.15   2.95   3.86   -3.29   -3.20    10.82   \n",
       "...                   ...     ...    ...    ...     ...     ...      ...   \n",
       "56043 2016-12-27     0.16   82.88   1.63  -7.97  -13.49  -12.81    -1.39   \n",
       "      2016-12-28     0.02   83.33   1.41  -8.71  -14.10  -13.84    -2.49   \n",
       "      2016-12-29     0.00   83.75   1.59  -7.96  -13.30  -13.03     0.42   \n",
       "      2016-12-30     1.22   82.49   2.63  -2.94   -7.40   -7.33     3.76   \n",
       "      2016-12-31     0.44   82.19   1.75  -7.56  -11.98  -11.82    -0.95   \n",
       "\n",
       "                  T2M_MIN  T2M_RANGE     TS  WS10M  WS10M_MAX  WS10M_MIN  \\\n",
       "fips  date                                                                 \n",
       "1001  2000-01-01    11.46       9.50  14.65   2.20       2.94       1.49   \n",
       "      2000-01-02    12.61      10.18  16.60   2.52       3.43       1.83   \n",
       "      2000-01-03    15.32       7.41  18.41   4.03       5.33       2.66   \n",
       "      2000-01-04     2.16      15.92  11.31   3.84       5.67       2.08   \n",
       "      2000-01-05    -2.66      13.48   2.65   1.60       2.50       0.52   \n",
       "...                   ...        ...    ...    ...        ...        ...   \n",
       "56043 2016-12-27   -13.60      12.21  -9.41   5.90       7.63       3.61   \n",
       "      2016-12-28   -13.56      11.07 -10.55   6.50      11.43       4.11   \n",
       "      2016-12-29   -14.51      14.93 -10.29   4.29       6.24       2.03   \n",
       "      2016-12-30    -6.86      10.62  -4.14   4.98       7.34       1.99   \n",
       "      2016-12-31   -11.61      10.66 -10.17   2.31       3.47       0.41   \n",
       "\n",
       "                  WS10M_RANGE  WS50M  WS50M_MAX  WS50M_MIN  WS50M_RANGE  score  \n",
       "fips  date                                                                      \n",
       "1001  2000-01-01         1.46   4.85       6.04       3.23         2.81    NaN  \n",
       "      2000-01-02         1.60   5.33       6.13       3.72         2.41    NaN  \n",
       "      2000-01-03         2.67   7.53       9.52       5.87         3.66    NaN  \n",
       "      2000-01-04         3.59   6.73       9.31       3.74         5.58    1.0  \n",
       "      2000-01-05         1.98   2.94       4.85       0.65         4.19    NaN  \n",
       "...                       ...    ...        ...        ...          ...    ...  \n",
       "56043 2016-12-27         4.02   8.58      10.39       5.92         4.47    0.0  \n",
       "      2016-12-28         7.32   9.92      14.49       7.26         7.22    NaN  \n",
       "      2016-12-29         4.22   6.56      10.07       3.20         6.87    NaN  \n",
       "      2016-12-30         5.35   7.28      10.12       3.24         6.89    NaN  \n",
       "      2016-12-31         3.06   3.37       5.26       0.66         4.60    NaN  \n",
       "\n",
       "[19300680 rows x 19 columns]"
      ]
     },
     "execution_count": 5,
     "metadata": {},
     "output_type": "execute_result"
    }
   ],
   "source": [
    "dfs['train']"
   ]
  },
  {
   "cell_type": "markdown",
   "metadata": {},
   "source": [
    "Next, we may select the subset of rows which have the 'score' assignment. These can be interpereted according to the \n",
    "\n",
    "\n",
    "This will return the data for days separated by precisely one week. We do this for all dataframes."
   ]
  },
  {
   "cell_type": "code",
   "execution_count": 6,
   "metadata": {},
   "outputs": [],
   "source": [
    "train_has_score = dfs['train'][~pd.isnull(dfs['train']['score'])]"
   ]
  },
  {
   "cell_type": "code",
   "execution_count": 7,
   "metadata": {},
   "outputs": [
    {
     "data": {
      "text/plain": [
       "Index(['PRECTOT', 'PS', 'QV2M', 'T2M', 'T2MDEW', 'T2MWET', 'T2M_MAX',\n",
       "       'T2M_MIN', 'T2M_RANGE', 'TS', 'WS10M', 'WS10M_MAX', 'WS10M_MIN',\n",
       "       'WS10M_RANGE', 'WS50M', 'WS50M_MAX', 'WS50M_MIN', 'WS50M_RANGE',\n",
       "       'score'],\n",
       "      dtype='object')"
      ]
     },
     "execution_count": 7,
     "metadata": {},
     "output_type": "execute_result"
    }
   ],
   "source": [
    "train_has_score.columns"
   ]
  },
  {
   "cell_type": "code",
   "execution_count": 8,
   "metadata": {},
   "outputs": [],
   "source": [
    "test_has_score = dfs['test'][~pd.isnull(dfs['test']['score'])]"
   ]
  },
  {
   "cell_type": "code",
   "execution_count": 9,
   "metadata": {},
   "outputs": [],
   "source": [
    "valid_has_score = dfs['valid'][~pd.isnull(dfs['valid']['score'])]"
   ]
  },
  {
   "cell_type": "code",
   "execution_count": 57,
   "metadata": {},
   "outputs": [
    {
     "data": {
      "text/plain": [
       "(326327, 137)"
      ]
     },
     "execution_count": 57,
     "metadata": {},
     "output_type": "execute_result"
    }
   ],
   "source": [
    "test_has_score.shape"
   ]
  },
  {
   "cell_type": "markdown",
   "metadata": {},
   "source": [
    "The following function can convert this time-series problem into a supervised learning problem. In essence, we can copy the data, shift it back by a week, and then put it back into the existing dataframe. The parameter num_weeks determines the number of weeks into the past we want to look. For this snippet, we have selected 6, so about a month and a half. "
   ]
  },
  {
   "cell_type": "code",
   "execution_count": 11,
   "metadata": {},
   "outputs": [],
   "source": [
    "cols_list = ['PRECTOT', 'PS', 'QV2M', 'T2M', 'T2MDEW', 'T2MWET', 'T2M_MAX',\n",
    "       'T2M_MIN', 'T2M_RANGE', 'TS', 'WS10M', 'WS10M_MAX', 'WS10M_MIN',\n",
    "       'WS10M_RANGE', 'WS50M', 'WS50M_MAX', 'WS50M_MIN', 'WS50M_RANGE','score']\n",
    "\n",
    "\n",
    "def add_weeks(df, num_weeks):\n",
    "    for i in range(0,num_weeks):\n",
    "        for param in cols_list:\n",
    "            new_name = param + '-'+str(i+1)\n",
    "            #print(new_name)\n",
    "            df[new_name] = df[param].shift(i+1)\n",
    "        #pd.concat([df,temp])\n",
    "        "
   ]
  },
  {
   "cell_type": "code",
   "execution_count": 12,
   "metadata": {},
   "outputs": [
    {
     "name": "stdout",
     "output_type": "stream",
     "text": [
      "PRECTOT-1\n",
      "PS-1\n",
      "QV2M-1\n",
      "T2M-1\n",
      "T2MDEW-1\n",
      "T2MWET-1\n",
      "T2M_MAX-1\n",
      "T2M_MIN-1\n",
      "T2M_RANGE-1\n",
      "TS-1\n",
      "WS10M-1\n",
      "WS10M_MAX-1\n",
      "WS10M_MIN-1\n",
      "WS10M_RANGE-1\n",
      "WS50M-1\n",
      "WS50M_MAX-1\n",
      "WS50M_MIN-1\n",
      "WS50M_RANGE-1\n",
      "score-1\n",
      "PRECTOT-2\n",
      "PS-2\n",
      "QV2M-2\n",
      "T2M-2\n",
      "T2MDEW-2\n",
      "T2MWET-2\n",
      "T2M_MAX-2\n"
     ]
    },
    {
     "name": "stderr",
     "output_type": "stream",
     "text": [
      "<ipython-input-11-e29cb1f1a57b>:11: SettingWithCopyWarning: \n",
      "A value is trying to be set on a copy of a slice from a DataFrame.\n",
      "Try using .loc[row_indexer,col_indexer] = value instead\n",
      "\n",
      "See the caveats in the documentation: https://pandas.pydata.org/pandas-docs/stable/user_guide/indexing.html#returning-a-view-versus-a-copy\n",
      "  df[new_name] = df[param].shift(i+1)\n"
     ]
    },
    {
     "name": "stdout",
     "output_type": "stream",
     "text": [
      "T2M_MIN-2\n",
      "T2M_RANGE-2\n",
      "TS-2\n",
      "WS10M-2\n",
      "WS10M_MAX-2\n",
      "WS10M_MIN-2\n",
      "WS10M_RANGE-2\n",
      "WS50M-2\n",
      "WS50M_MAX-2\n",
      "WS50M_MIN-2\n",
      "WS50M_RANGE-2\n",
      "score-2\n",
      "PRECTOT-3\n",
      "PS-3\n",
      "QV2M-3\n",
      "T2M-3\n",
      "T2MDEW-3\n",
      "T2MWET-3\n",
      "T2M_MAX-3\n",
      "T2M_MIN-3\n",
      "T2M_RANGE-3\n",
      "TS-3\n",
      "WS10M-3\n",
      "WS10M_MAX-3\n",
      "WS10M_MIN-3\n",
      "WS10M_RANGE-3\n",
      "WS50M-3\n",
      "WS50M_MAX-3\n",
      "WS50M_MIN-3\n",
      "WS50M_RANGE-3\n",
      "score-3\n",
      "PRECTOT-4\n",
      "PS-4\n",
      "QV2M-4\n",
      "T2M-4\n",
      "T2MDEW-4\n",
      "T2MWET-4\n",
      "T2M_MAX-4\n",
      "T2M_MIN-4\n",
      "T2M_RANGE-4\n",
      "TS-4\n",
      "WS10M-4\n",
      "WS10M_MAX-4\n",
      "WS10M_MIN-4\n",
      "WS10M_RANGE-4\n",
      "WS50M-4\n",
      "WS50M_MAX-4\n",
      "WS50M_MIN-4\n",
      "WS50M_RANGE-4\n",
      "score-4\n",
      "PRECTOT-5\n",
      "PS-5\n",
      "QV2M-5\n",
      "T2M-5\n",
      "T2MDEW-5\n",
      "T2MWET-5\n",
      "T2M_MAX-5\n",
      "T2M_MIN-5\n",
      "T2M_RANGE-5\n",
      "TS-5\n",
      "WS10M-5\n",
      "WS10M_MAX-5\n",
      "WS10M_MIN-5\n",
      "WS10M_RANGE-5\n",
      "WS50M-5\n",
      "WS50M_MAX-5\n",
      "WS50M_MIN-5\n",
      "WS50M_RANGE-5\n",
      "score-5\n",
      "PRECTOT-6\n",
      "PS-6\n",
      "QV2M-6\n",
      "T2M-6\n",
      "T2MDEW-6\n",
      "T2MWET-6\n",
      "T2M_MAX-6\n",
      "T2M_MIN-6\n",
      "T2M_RANGE-6\n",
      "TS-6\n",
      "WS10M-6\n",
      "WS10M_MAX-6\n",
      "WS10M_MIN-6\n",
      "WS10M_RANGE-6\n",
      "WS50M-6\n",
      "WS50M_MAX-6\n",
      "WS50M_MIN-6\n",
      "WS50M_RANGE-6\n",
      "score-6\n",
      "PRECTOT-1\n",
      "PS-1\n",
      "QV2M-1\n",
      "T2M-1\n",
      "T2MDEW-1\n",
      "T2MWET-1\n",
      "T2M_MAX-1\n",
      "T2M_MIN-1\n",
      "T2M_RANGE-1\n",
      "TS-1\n",
      "WS10M-1\n",
      "WS10M_MAX-1\n",
      "WS10M_MIN-1\n",
      "WS10M_RANGE-1\n",
      "WS50M-1\n",
      "WS50M_MAX-1\n",
      "WS50M_MIN-1\n",
      "WS50M_RANGE-1\n",
      "score-1\n",
      "PRECTOT-2\n",
      "PS-2\n",
      "QV2M-2\n",
      "T2M-2\n",
      "T2MDEW-2\n",
      "T2MWET-2\n",
      "T2M_MAX-2\n",
      "T2M_MIN-2\n",
      "T2M_RANGE-2\n",
      "TS-2\n",
      "WS10M-2\n",
      "WS10M_MAX-2\n",
      "WS10M_MIN-2\n",
      "WS10M_RANGE-2\n",
      "WS50M-2\n",
      "WS50M_MAX-2\n",
      "WS50M_MIN-2\n",
      "WS50M_RANGE-2\n",
      "score-2\n",
      "PRECTOT-3\n",
      "PS-3\n",
      "QV2M-3\n",
      "T2M-3\n",
      "T2MDEW-3\n",
      "T2MWET-3\n",
      "T2M_MAX-3\n",
      "T2M_MIN-3\n",
      "T2M_RANGE-3\n",
      "TS-3\n",
      "WS10M-3\n",
      "WS10M_MAX-3\n",
      "WS10M_MIN-3\n",
      "WS10M_RANGE-3\n",
      "WS50M-3\n",
      "WS50M_MAX-3\n",
      "WS50M_MIN-3\n",
      "WS50M_RANGE-3\n",
      "score-3\n",
      "PRECTOT-4\n",
      "PS-4\n",
      "QV2M-4\n",
      "T2M-4\n",
      "T2MDEW-4\n",
      "T2MWET-4\n",
      "T2M_MAX-4\n",
      "T2M_MIN-4\n",
      "T2M_RANGE-4\n",
      "TS-4\n",
      "WS10M-4\n",
      "WS10M_MAX-4\n",
      "WS10M_MIN-4\n",
      "WS10M_RANGE-4\n",
      "WS50M-4\n",
      "WS50M_MAX-4\n",
      "WS50M_MIN-4\n",
      "WS50M_RANGE-4\n",
      "score-4\n",
      "PRECTOT-5\n",
      "PS-5\n",
      "QV2M-5\n",
      "T2M-5\n",
      "T2MDEW-5\n",
      "T2MWET-5\n",
      "T2M_MAX-5\n",
      "T2M_MIN-5\n",
      "T2M_RANGE-5\n",
      "TS-5\n",
      "WS10M-5\n",
      "WS10M_MAX-5\n",
      "WS10M_MIN-5\n",
      "WS10M_RANGE-5\n",
      "WS50M-5\n",
      "WS50M_MAX-5\n",
      "WS50M_MIN-5\n",
      "WS50M_RANGE-5\n",
      "score-5\n",
      "PRECTOT-6\n",
      "PS-6\n",
      "QV2M-6\n",
      "T2M-6\n",
      "T2MDEW-6\n",
      "T2MWET-6\n",
      "T2M_MAX-6\n",
      "T2M_MIN-6\n",
      "T2M_RANGE-6\n",
      "TS-6\n",
      "WS10M-6\n",
      "WS10M_MAX-6\n",
      "WS10M_MIN-6\n",
      "WS10M_RANGE-6\n",
      "WS50M-6\n",
      "WS50M_MAX-6\n",
      "WS50M_MIN-6\n",
      "WS50M_RANGE-6\n",
      "score-6\n",
      "PRECTOT-1\n",
      "PS-1\n",
      "QV2M-1\n",
      "T2M-1\n",
      "T2MDEW-1\n",
      "T2MWET-1\n",
      "T2M_MAX-1\n",
      "T2M_MIN-1\n",
      "T2M_RANGE-1\n",
      "TS-1\n",
      "WS10M-1\n",
      "WS10M_MAX-1\n",
      "WS10M_MIN-1\n",
      "WS10M_RANGE-1\n",
      "WS50M-1\n",
      "WS50M_MAX-1\n",
      "WS50M_MIN-1\n",
      "WS50M_RANGE-1\n",
      "score-1\n",
      "PRECTOT-2\n",
      "PS-2\n",
      "QV2M-2\n",
      "T2M-2\n",
      "T2MDEW-2\n",
      "T2MWET-2\n",
      "T2M_MAX-2\n",
      "T2M_MIN-2\n",
      "T2M_RANGE-2\n",
      "TS-2\n",
      "WS10M-2\n",
      "WS10M_MAX-2\n",
      "WS10M_MIN-2\n",
      "WS10M_RANGE-2\n",
      "WS50M-2\n",
      "WS50M_MAX-2\n",
      "WS50M_MIN-2\n",
      "WS50M_RANGE-2\n",
      "score-2\n",
      "PRECTOT-3\n",
      "PS-3\n",
      "QV2M-3\n",
      "T2M-3\n",
      "T2MDEW-3\n",
      "T2MWET-3\n",
      "T2M_MAX-3\n",
      "T2M_MIN-3\n",
      "T2M_RANGE-3\n",
      "TS-3\n",
      "WS10M-3\n",
      "WS10M_MAX-3\n",
      "WS10M_MIN-3\n",
      "WS10M_RANGE-3\n",
      "WS50M-3\n",
      "WS50M_MAX-3\n",
      "WS50M_MIN-3\n",
      "WS50M_RANGE-3\n",
      "score-3\n",
      "PRECTOT-4\n",
      "PS-4\n",
      "QV2M-4\n",
      "T2M-4\n",
      "T2MDEW-4\n",
      "T2MWET-4\n",
      "T2M_MAX-4\n",
      "T2M_MIN-4\n",
      "T2M_RANGE-4\n",
      "TS-4\n",
      "WS10M-4\n",
      "WS10M_MAX-4\n",
      "WS10M_MIN-4\n",
      "WS10M_RANGE-4\n",
      "WS50M-4\n",
      "WS50M_MAX-4\n",
      "WS50M_MIN-4\n",
      "WS50M_RANGE-4\n",
      "score-4\n",
      "PRECTOT-5\n",
      "PS-5\n",
      "QV2M-5\n",
      "T2M-5\n",
      "T2MDEW-5\n",
      "T2MWET-5\n",
      "T2M_MAX-5\n",
      "T2M_MIN-5\n",
      "T2M_RANGE-5\n",
      "TS-5\n",
      "WS10M-5\n",
      "WS10M_MAX-5\n",
      "WS10M_MIN-5\n",
      "WS10M_RANGE-5\n",
      "WS50M-5\n",
      "WS50M_MAX-5\n",
      "WS50M_MIN-5\n",
      "WS50M_RANGE-5\n",
      "score-5\n",
      "PRECTOT-6\n",
      "PS-6\n",
      "QV2M-6\n",
      "T2M-6\n",
      "T2MDEW-6\n",
      "T2MWET-6\n",
      "T2M_MAX-6\n",
      "T2M_MIN-6\n",
      "T2M_RANGE-6\n",
      "TS-6\n",
      "WS10M-6\n",
      "WS10M_MAX-6\n",
      "WS10M_MIN-6\n",
      "WS10M_RANGE-6\n",
      "WS50M-6\n",
      "WS50M_MAX-6\n",
      "WS50M_MIN-6\n",
      "WS50M_RANGE-6\n",
      "score-6\n"
     ]
    }
   ],
   "source": [
    "add_weeks(train_has_score,6)\n",
    "add_weeks(test_has_score, 6)\n",
    "add_weeks(valid_has_score,6)\n"
   ]
  },
  {
   "cell_type": "markdown",
   "metadata": {},
   "source": [
    "This next snippet is a function which will determine the number of weeks into the future we want to predict. In this case, we want to predict the drought scores for the next 4 weeks. "
   ]
  },
  {
   "cell_type": "code",
   "execution_count": 13,
   "metadata": {},
   "outputs": [],
   "source": [
    "def next_weeks(df, num_weeks):\n",
    "    for i in range(0,num_weeks):\n",
    "        new_name = 'next' + '.'+str(i+1)\n",
    "        print(new_name)\n",
    "        df[new_name] = df['score'].shift(-1-i)"
   ]
  },
  {
   "cell_type": "code",
   "execution_count": 19,
   "metadata": {},
   "outputs": [
    {
     "name": "stdout",
     "output_type": "stream",
     "text": [
      "next.1\n",
      "next.2\n",
      "next.3\n",
      "next.4\n",
      "next.1\n",
      "next.2\n",
      "next.3\n",
      "next.4\n"
     ]
    }
   ],
   "source": [
    "next_weeks(train_has_score,4)\n",
    "next_weeks(test_has_score,4)"
   ]
  },
  {
   "cell_type": "markdown",
   "metadata": {},
   "source": [
    "Next, we drop the entries which have NaN values. This is a miniscule proportion, so it has no bearing on the data. "
   ]
  },
  {
   "cell_type": "code",
   "execution_count": 20,
   "metadata": {},
   "outputs": [],
   "source": [
    "train_has_score = train_has_score.dropna()\n",
    "test_has_score = test_has_score.dropna()"
   ]
  },
  {
   "cell_type": "markdown",
   "metadata": {},
   "source": [
    "## Part II: Training the Model"
   ]
  },
  {
   "cell_type": "markdown",
   "metadata": {},
   "source": [
    "These next lines split the data into training and testing. We try to predict the next 4 weeks, though this can be varied based on the circumstance."
   ]
  },
  {
   "cell_type": "code",
   "execution_count": 42,
   "metadata": {},
   "outputs": [],
   "source": [
    "X_train = train_has_score.drop(['next.1','next.2', 'next.3','next.4'],inplace=False, axis =1)\n",
    "y_train = train_has_score.loc[:,['next.1','next.2', 'next.3','next.4']]"
   ]
  },
  {
   "cell_type": "code",
   "execution_count": 43,
   "metadata": {},
   "outputs": [],
   "source": [
    "X_test = test_has_score.drop(['next.1','next.2', 'next.3','next.4'],inplace=False, axis =1)\n",
    "Y_test = test_has_score.loc[:,['next.1','next.2', 'next.3','next.4']]"
   ]
  },
  {
   "cell_type": "code",
   "execution_count": 44,
   "metadata": {},
   "outputs": [],
   "source": [
    "from sklearn.model_selection import TimeSeriesSplit\n",
    "import sklearn.metrics as metrics"
   ]
  },
  {
   "cell_type": "code",
   "execution_count": 45,
   "metadata": {},
   "outputs": [],
   "source": [
    "from sklearn.neural_network import MLPRegressor\n",
    "from sklearn.neighbors import KNeighborsRegressor\n",
    "from sklearn.ensemble import RandomForestRegressor\n",
    "from sklearn.svm import SVR"
   ]
  },
  {
   "cell_type": "code",
   "execution_count": 46,
   "metadata": {},
   "outputs": [],
   "source": [
    "from sklearn import linear_model"
   ]
  },
  {
   "cell_type": "code",
   "execution_count": 58,
   "metadata": {},
   "outputs": [],
   "source": [
    "from sklearn.multioutput import MultiOutputRegressor\n",
    "\n",
    "clf = MultiOutputRegressor(LinearRegression()).fit(X_train, y_train)"
   ]
  },
  {
   "cell_type": "code",
   "execution_count": 59,
   "metadata": {},
   "outputs": [
    {
     "data": {
      "text/plain": [
       "array([[-0.06216019, -0.11409016, -0.15025046, -0.1890725 ],\n",
       "       [-0.11757132, -0.16806284, -0.23116575, -0.28853996],\n",
       "       [-0.04593339, -0.11564439, -0.17904795, -0.21732764],\n",
       "       ...,\n",
       "       [ 3.31530194,  3.14689568,  3.01950684,  2.89655209],\n",
       "       [ 3.41385059,  3.31919242,  3.20190934,  3.11868833],\n",
       "       [ 3.44458968,  3.33921481,  3.24484312,  3.18131661]])"
      ]
     },
     "execution_count": 59,
     "metadata": {},
     "output_type": "execute_result"
    }
   ],
   "source": [
    "clf.predict(X_test)"
   ]
  },
  {
   "cell_type": "code",
   "execution_count": 60,
   "metadata": {},
   "outputs": [],
   "source": [
    "s1 = clf.score(X_test, Y_test)"
   ]
  },
  {
   "cell_type": "markdown",
   "metadata": {},
   "source": [
    "The scoring of the model is based on $R^2$ or the coefficient of determination. The best possible score is 1, and it can be arbitrarily negative, or worse. "
   ]
  },
  {
   "cell_type": "markdown",
   "metadata": {},
   "source": [
    "The Ridge Coefficients minimize a residual sum of squares; this is effective for making our model robust to collinearity:\n",
    "$$\\inf_{x}||{Xw -y}||_2^2 + \\alpha||{w}||_2^2$$ \n",
    "where $\\alpha \\geq 0$. "
   ]
  },
  {
   "cell_type": "code",
   "execution_count": 61,
   "metadata": {},
   "outputs": [],
   "source": [
    "clf2 = MultiOutputRegressor(linear_model.Ridge(alpha = 5)).fit(X_train, y_train)"
   ]
  },
  {
   "cell_type": "code",
   "execution_count": 62,
   "metadata": {},
   "outputs": [
    {
     "data": {
      "text/plain": [
       "array([[-0.06267658, -0.11435661, -0.15028786, -0.18907614],\n",
       "       [-0.11722122, -0.16753623, -0.23062818, -0.28817288],\n",
       "       [-0.04565187, -0.11524121, -0.1790194 , -0.217158  ],\n",
       "       ...,\n",
       "       [ 3.31536144,  3.14687478,  3.01946947,  2.89634884],\n",
       "       [ 3.41378775,  3.3191877 ,  3.20175596,  3.11858648],\n",
       "       [ 3.44465225,  3.33915794,  3.24482402,  3.18111333]])"
      ]
     },
     "execution_count": 62,
     "metadata": {},
     "output_type": "execute_result"
    }
   ],
   "source": [
    " clf2.predict(X_test)"
   ]
  },
  {
   "cell_type": "code",
   "execution_count": 63,
   "metadata": {},
   "outputs": [],
   "source": [
    "s2 = clf2.score(X_test, Y_test)"
   ]
  },
  {
   "cell_type": "markdown",
   "metadata": {},
   "source": [
    "The Lasso model, which can estimate sparse coefficients, attempts to minimize the function \n",
    "$$\\inf_{x} \\frac{1}{2n_s} ||X_w -y||_2^2 + \\alpha||w||_1$$\n",
    "where $n_s$ is the number of samples."
   ]
  },
  {
   "cell_type": "code",
   "execution_count": 64,
   "metadata": {},
   "outputs": [],
   "source": [
    "clf3 = MultiOutputRegressor(linear_model.Lasso(alpha=.1)).fit(X_train, y_train)"
   ]
  },
  {
   "cell_type": "code",
   "execution_count": 65,
   "metadata": {},
   "outputs": [],
   "source": [
    "clf3.predict(X_test)\n",
    "s3 = clf3.score(X_test, Y_test)"
   ]
  },
  {
   "cell_type": "code",
   "execution_count": 66,
   "metadata": {},
   "outputs": [
    {
     "data": {
      "image/png": "[encoded data removed]",
      "text/plain": [
       "<Figure size 432x288 with 1 Axes>"
      ]
     },
     "metadata": {
      "needs_background": "light"
     },
     "output_type": "display_data"
    }
   ],
   "source": [
    "import matplotlib.pyplot as plt\n",
    "fig = plt.figure()\n",
    "ax = fig.add_axes([0,0,1,1])\n",
    "mods = ['Linear', 'Ridge', 'Lasso']\n",
    "scr = [s1,s2,s3]\n",
    "ax.bar(mods,scr)\n",
    "plt.show()"
   ]
  },
  {
   "cell_type": "markdown",
   "metadata": {},
   "source": [
    "In summary, we have a fairly predictive linear model, which has the benefit of fast computation time over a large amount of data. This project can be extended further by providing a way for farmers to input data about their soil composition, in order to improve accuracy."
   ]
  },
  {
   "cell_type": "code",
   "execution_count": null,
   "metadata": {},
   "outputs": [],
   "source": []
  },
  {
   "cell_type": "code",
   "execution_count": null,
   "metadata": {},
   "outputs": [],
   "source": []
  },
  {
   "cell_type": "code",
   "execution_count": null,
   "metadata": {},
   "outputs": [],
   "source": []
  },
  {
   "cell_type": "code",
   "execution_count": null,
   "metadata": {},
   "outputs": [],
   "source": []
  },
  {
   "cell_type": "code",
   "execution_count": null,
   "metadata": {},
   "outputs": [],
   "source": []
  },
  {
   "cell_type": "code",
   "execution_count": null,
   "metadata": {},
   "outputs": [],
   "source": []
  },
  {
   "cell_type": "code",
   "execution_count": null,
   "metadata": {},
   "outputs": [],
   "source": []
  },
  {
   "cell_type": "code",
   "execution_count": null,
   "metadata": {},
   "outputs": [],
   "source": []
  },
  {
   "cell_type": "code",
   "execution_count": null,
   "metadata": {},
   "outputs": [],
   "source": []
  },
  {
   "cell_type": "code",
   "execution_count": null,
   "metadata": {},
   "outputs": [],
   "source": []
  },
  {
   "cell_type": "code",
   "execution_count": null,
   "metadata": {},
   "outputs": [],
   "source": []
  }
 ],
 "metadata": {
  "kernelspec": {
   "display_name": "Python 3",
   "language": "python",
   "name": "python3"
  },
  "language_info": {
   "codemirror_mode": {
    "name": "ipython",
    "version": 3
   },
   "file_extension": ".py",
   "mimetype": "text/x-python",
   "name": "python",
   "nbconvert_exporter": "python",
   "pygments_lexer": "ipython3",
   "version": "3.8.5"
  }
 },
 "nbformat": 4,
 "nbformat_minor": 4
}
